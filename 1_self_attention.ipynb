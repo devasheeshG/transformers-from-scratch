{
 "cells": [
  {
   "cell_type": "code",
   "execution_count": 6,
   "metadata": {},
   "outputs": [],
   "source": [
    "import numpy as np\n",
    "import math"
   ]
  },
  {
   "cell_type": "code",
   "execution_count": 11,
   "metadata": {},
   "outputs": [],
   "source": [
    "# input sentence\n",
    "sent = 'My name is Ajay'\n",
    "\n",
    "# len of input sentence\n",
    "seq_len = 4\n",
    "\n",
    "#!\n",
    "d_k, d_v = 8, 8\n",
    "np.random.seed(42)\n",
    "query = np.random.randn(seq_len, d_k)\n",
    "key = np.random.randn(seq_len, d_k)\n",
    "value = np.random.randn(seq_len, d_v)"
   ]
  },
  {
   "cell_type": "code",
   "execution_count": 12,
   "metadata": {},
   "outputs": [
    {
     "name": "stdout",
     "output_type": "stream",
     "text": [
      "Query:  [[ 0.49671415 -0.1382643   0.64768854  1.52302986 -0.23415337 -0.23413696\n",
      "   1.57921282  0.76743473]\n",
      " [-0.46947439  0.54256004 -0.46341769 -0.46572975  0.24196227 -1.91328024\n",
      "  -1.72491783 -0.56228753]\n",
      " [-1.01283112  0.31424733 -0.90802408 -1.4123037   1.46564877 -0.2257763\n",
      "   0.0675282  -1.42474819]\n",
      " [-0.54438272  0.11092259 -1.15099358  0.37569802 -0.60063869 -0.29169375\n",
      "  -0.60170661  1.85227818]] \n",
      "\n",
      "Key:  [[-0.01349722 -1.05771093  0.82254491 -1.22084365  0.2088636  -1.95967012\n",
      "  -1.32818605  0.19686124]\n",
      " [ 0.73846658  0.17136828 -0.11564828 -0.3011037  -1.47852199 -0.71984421\n",
      "  -0.46063877  1.05712223]\n",
      " [ 0.34361829 -1.76304016  0.32408397 -0.38508228 -0.676922    0.61167629\n",
      "   1.03099952  0.93128012]\n",
      " [-0.83921752 -0.30921238  0.33126343  0.97554513 -0.47917424 -0.18565898\n",
      "  -1.10633497 -1.19620662]] \n",
      "\n",
      "Value:  [[ 0.81252582  1.35624003 -0.07201012  1.0035329   0.36163603 -0.64511975\n",
      "   0.36139561  1.53803657]\n",
      " [-0.03582604  1.56464366 -2.6197451   0.8219025   0.08704707 -0.29900735\n",
      "   0.09176078 -1.98756891]\n",
      " [-0.21967189  0.35711257  1.47789404 -0.51827022 -0.8084936  -0.50175704\n",
      "   0.91540212  0.32875111]\n",
      " [-0.5297602   0.51326743  0.09707755  0.96864499 -0.70205309 -0.32766215\n",
      "  -0.39210815 -1.46351495]] \n",
      "\n"
     ]
    }
   ],
   "source": [
    "print('Query: ', query, '\\n')\n",
    "print('Key: ', key, '\\n')\n",
    "print('Value: ', value, '\\n')"
   ]
  },
  {
   "cell_type": "code",
   "execution_count": null,
   "metadata": {},
   "outputs": [],
   "source": []
  }
 ],
 "metadata": {
  "kernelspec": {
   "display_name": "Python 3",
   "language": "python",
   "name": "python3"
  },
  "language_info": {
   "codemirror_mode": {
    "name": "ipython",
    "version": 3
   },
   "file_extension": ".py",
   "mimetype": "text/x-python",
   "name": "python",
   "nbconvert_exporter": "python",
   "pygments_lexer": "ipython3",
   "version": "3.10.12"
  }
 },
 "nbformat": 4,
 "nbformat_minor": 2
}
